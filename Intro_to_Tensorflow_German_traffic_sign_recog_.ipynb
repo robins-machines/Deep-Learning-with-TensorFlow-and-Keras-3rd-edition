{
  "metadata": {
    "kernelspec": {
      "language": "python",
      "display_name": "Python 3",
      "name": "python3"
    },
    "language_info": {
      "pygments_lexer": "ipython3",
      "nbconvert_exporter": "python",
      "version": "3.6.4",
      "file_extension": ".py",
      "codemirror_mode": {
        "name": "ipython",
        "version": 3
      },
      "name": "python",
      "mimetype": "text/x-python"
    },
    "colab": {
      "name": "Intro to Tensorflow - German traffic sign recog.",
      "provenance": [],
      "include_colab_link": true
    }
  },
  "nbformat_minor": 0,
  "nbformat": 4,
  "cells": [
    {
      "cell_type": "markdown",
      "metadata": {
        "id": "view-in-github",
        "colab_type": "text"
      },
      "source": [
        "<a href=\"https://colab.research.google.com/github/robins-machines/Deep-Learning-with-TensorFlow-and-Keras-3rd-edition/blob/main/Intro_to_Tensorflow_German_traffic_sign_recog_.ipynb\" target=\"_parent\"><img src=\"https://colab.research.google.com/assets/colab-badge.svg\" alt=\"Open In Colab\"/></a>"
      ]
    },
    {
      "source": [
        "\n",
        "# IMPORTANT: RUN THIS CELL IN ORDER TO IMPORT YOUR KAGGLE DATA SOURCES\n",
        "# TO THE CORRECT LOCATION (/kaggle/input) IN YOUR NOTEBOOK,\n",
        "# THEN FEEL FREE TO DELETE THIS CELL.\n",
        "# NOTE: THIS NOTEBOOK ENVIRONMENT DIFFERS FROM KAGGLE'S PYTHON\n",
        "# ENVIRONMENT SO THERE MAY BE MISSING LIBRARIES USED BY YOUR\n",
        "# NOTEBOOK.\n",
        "\n",
        "import os\n",
        "import sys\n",
        "from tempfile import NamedTemporaryFile\n",
        "from urllib.request import urlopen\n",
        "from urllib.parse import unquote, urlparse\n",
        "from urllib.error import HTTPError\n",
        "from zipfile import ZipFile\n",
        "import tarfile\n",
        "import shutil\n",
        "\n",
        "CHUNK_SIZE = 40960\n",
        "DATA_SOURCE_MAPPING = 'german-traffic-sign-recognition-benchmark:https%3A%2F%2Fstorage.googleapis.com%2Fkaggle-data-sets%2F1801850%2F2939054%2Fbundle%2Farchive.zip%3FX-Goog-Algorithm%3DGOOG4-RSA-SHA256%26X-Goog-Credential%3Dgcp-kaggle-com%2540kaggle-161607.iam.gserviceaccount.com%252F20240601%252Fauto%252Fstorage%252Fgoog4_request%26X-Goog-Date%3D20240601T090454Z%26X-Goog-Expires%3D259200%26X-Goog-SignedHeaders%3Dhost%26X-Goog-Signature%3D0485006ca4918d126a85758dcafe563510364b3058d031262dedced96322ebbb58190c6f595e080230b3a2b6a92090d6ad20ee473fc7fc67e785adee51f5cfbaced9bba35b46393e6ac921a7c072873ddee07b891c7b4348332a2d84958ec5a8a27660da499e47598ac03c3daf3e9c2e1eacc7411bdfbbc6bdeaa9d8e11b3c064b1f68f7b626bae4235c465b4b8fbdf7789588447a5addaac0c2222a028f0c41b5334a25d0f750443d9957e09d750cdfb8dcf434b67de9779d7561344d4e356e111fb713122c8b92fc4c2b24a70b0d8094a51ada354ed19cd77b33bc3fabd9dfeb27926955ae4abec7d4677a7a0297fe9a0e38ddc505aa312a9987ee3b9c1208'\n",
        "\n",
        "KAGGLE_INPUT_PATH='/kaggle/input'\n",
        "KAGGLE_WORKING_PATH='/kaggle/working'\n",
        "KAGGLE_SYMLINK='kaggle'\n",
        "\n",
        "!umount /kaggle/input/ 2> /dev/null\n",
        "shutil.rmtree('/kaggle/input', ignore_errors=True)\n",
        "os.makedirs(KAGGLE_INPUT_PATH, 0o777, exist_ok=True)\n",
        "os.makedirs(KAGGLE_WORKING_PATH, 0o777, exist_ok=True)\n",
        "\n",
        "try:\n",
        "  os.symlink(KAGGLE_INPUT_PATH, os.path.join(\"..\", 'input'), target_is_directory=True)\n",
        "except FileExistsError:\n",
        "  pass\n",
        "try:\n",
        "  os.symlink(KAGGLE_WORKING_PATH, os.path.join(\"..\", 'working'), target_is_directory=True)\n",
        "except FileExistsError:\n",
        "  pass\n",
        "\n",
        "for data_source_mapping in DATA_SOURCE_MAPPING.split(','):\n",
        "    directory, download_url_encoded = data_source_mapping.split(':')\n",
        "    download_url = unquote(download_url_encoded)\n",
        "    filename = urlparse(download_url).path\n",
        "    destination_path = os.path.join(KAGGLE_INPUT_PATH, directory)\n",
        "    try:\n",
        "        with urlopen(download_url) as fileres, NamedTemporaryFile() as tfile:\n",
        "            total_length = fileres.headers['content-length']\n",
        "            print(f'Downloading {directory}, {total_length} bytes compressed')\n",
        "            dl = 0\n",
        "            data = fileres.read(CHUNK_SIZE)\n",
        "            while len(data) > 0:\n",
        "                dl += len(data)\n",
        "                tfile.write(data)\n",
        "                done = int(50 * dl / int(total_length))\n",
        "                sys.stdout.write(f\"\\r[{'=' * done}{' ' * (50-done)}] {dl} bytes downloaded\")\n",
        "                sys.stdout.flush()\n",
        "                data = fileres.read(CHUNK_SIZE)\n",
        "            if filename.endswith('.zip'):\n",
        "              with ZipFile(tfile) as zfile:\n",
        "                zfile.extractall(destination_path)\n",
        "            else:\n",
        "              with tarfile.open(tfile.name) as tarfile:\n",
        "                tarfile.extractall(destination_path)\n",
        "            print(f'\\nDownloaded and uncompressed: {directory}')\n",
        "    except HTTPError as e:\n",
        "        print(f'Failed to load (likely expired) {download_url} to path {destination_path}')\n",
        "        continue\n",
        "    except OSError as e:\n",
        "        print(f'Failed to load {download_url} to path {destination_path}')\n",
        "        continue\n",
        "\n",
        "print('Data source import complete.')\n"
      ],
      "metadata": {
        "id": "57LAE4RbWOv9"
      },
      "cell_type": "code",
      "outputs": [],
      "execution_count": null
    },
    {
      "cell_type": "markdown",
      "source": [
        "This notebook was copied from, https://github.com/sniper0110/IntroductionToTensorflow2\n",
        "Thank a lot to Nour for wonderful tutorial at\n",
        "https://www.youtube.com/watch?v=cPmjQ9V6Hbk"
      ],
      "metadata": {
        "id": "8hlBoIOPWOv_"
      }
    },
    {
      "cell_type": "code",
      "source": [
        "import shutil\n",
        "import matplotlib.pyplot as plt\n",
        "import numpy as np\n",
        "import os\n",
        "import glob\n",
        "from sklearn.model_selection import train_test_split\n",
        "import shutil\n",
        "import csv\n",
        "from tensorflow.keras.preprocessing.image import ImageDataGenerator\n",
        "import tensorflow as tf\n",
        "from tensorflow.keras.layers import Conv2D, Input, Dense, MaxPool2D, BatchNormalization, GlobalAvgPool2D, Flatten\n",
        "from tensorflow.keras import Model\n",
        "from tensorflow.keras.callbacks import ModelCheckpoint, EarlyStopping\n",
        "\n"
      ],
      "metadata": {
        "_uuid": "a8fad953-5b15-4509-8042-167714376a30",
        "_cell_guid": "a73e0097-7126-4004-ad41-efacccd9b210",
        "jupyter": {
          "outputs_hidden": false
        },
        "execution": {
          "iopub.status.busy": "2021-12-17T17:15:41.776586Z",
          "iopub.execute_input": "2021-12-17T17:15:41.776843Z",
          "iopub.status.idle": "2021-12-17T17:15:41.784027Z",
          "shell.execute_reply.started": "2021-12-17T17:15:41.776816Z",
          "shell.execute_reply": "2021-12-17T17:15:41.783367Z"
        },
        "trusted": true,
        "id": "_OEARuTLWOwA"
      },
      "execution_count": null,
      "outputs": []
    },
    {
      "cell_type": "markdown",
      "source": [
        "# Preprocessing"
      ],
      "metadata": {
        "id": "RSePuxWtWOwA"
      }
    },
    {
      "cell_type": "code",
      "source": [
        "def create_generators(batch_size, train_data_path, val_data_path, test_data_path):\n",
        "\n",
        "    train_preprocessor = ImageDataGenerator(\n",
        "        rescale = 1 / 255.,\n",
        "        rotation_range=10,\n",
        "        width_shift_range=0.1\n",
        "    )\n",
        "\n",
        "    test_preprocessor = ImageDataGenerator(\n",
        "        rescale = 1 / 255.,\n",
        "    )\n",
        "\n",
        "    train_generator = train_preprocessor.flow_from_directory(\n",
        "        train_data_path,\n",
        "        class_mode=\"categorical\",\n",
        "        target_size=(60,60),\n",
        "        color_mode='rgb',\n",
        "        shuffle=True,\n",
        "        batch_size=batch_size\n",
        "    )\n",
        "\n",
        "    val_generator = test_preprocessor.flow_from_directory(\n",
        "        val_data_path,\n",
        "        class_mode=\"categorical\",\n",
        "        target_size=(60,60),\n",
        "        color_mode=\"rgb\",\n",
        "        shuffle=False,\n",
        "        batch_size=batch_size,\n",
        "    )\n",
        "\n",
        "    test_generator = test_preprocessor.flow_from_directory(\n",
        "        test_data_path,\n",
        "        class_mode=\"categorical\",\n",
        "        target_size=(60,60),\n",
        "        color_mode=\"rgb\",\n",
        "        shuffle=False,\n",
        "        batch_size=batch_size,\n",
        "    )\n",
        "\n",
        "    return train_generator, val_generator, test_generator"
      ],
      "metadata": {
        "execution": {
          "iopub.status.busy": "2021-12-17T16:31:57.074257Z",
          "iopub.execute_input": "2021-12-17T16:31:57.074988Z",
          "iopub.status.idle": "2021-12-17T16:31:57.083056Z",
          "shell.execute_reply.started": "2021-12-17T16:31:57.074934Z",
          "shell.execute_reply": "2021-12-17T16:31:57.081419Z"
        },
        "trusted": true,
        "id": "wdg4m4u3WOwB"
      },
      "execution_count": null,
      "outputs": []
    },
    {
      "cell_type": "markdown",
      "source": [
        "# Model"
      ],
      "metadata": {
        "id": "cZd0MFHHWOwB"
      }
    },
    {
      "cell_type": "code",
      "source": [
        "batch_size = 64\n",
        "\n",
        "train_data_path = '../input/german-traffic-sign-recognition-benchmark/train'\n",
        "val_data_path = '../input/german-traffic-sign-recognition-benchmark/val'\n",
        "test_data_path = '../input/german-traffic-sign-recognition-benchmark/Test'\n",
        "\n",
        "train_generator, val_generator, test_generator = create_generators(batch_size, train_data_path, val_data_path, test_data_path)"
      ],
      "metadata": {
        "execution": {
          "iopub.status.busy": "2021-12-17T16:50:09.136557Z",
          "iopub.execute_input": "2021-12-17T16:50:09.13681Z",
          "iopub.status.idle": "2021-12-17T16:50:30.035175Z",
          "shell.execute_reply.started": "2021-12-17T16:50:09.13678Z",
          "shell.execute_reply": "2021-12-17T16:50:30.034307Z"
        },
        "trusted": true,
        "id": "9ixywUqcWOwB"
      },
      "execution_count": null,
      "outputs": []
    },
    {
      "cell_type": "code",
      "source": [
        "nbr_classes = train_generator.num_classes\n",
        "nbr_classes"
      ],
      "metadata": {
        "execution": {
          "iopub.status.busy": "2021-12-17T17:01:27.951551Z",
          "iopub.execute_input": "2021-12-17T17:01:27.952063Z",
          "iopub.status.idle": "2021-12-17T17:01:27.958719Z",
          "shell.execute_reply.started": "2021-12-17T17:01:27.952025Z",
          "shell.execute_reply": "2021-12-17T17:01:27.957896Z"
        },
        "trusted": true,
        "id": "s1aXD80pWOwB"
      },
      "execution_count": null,
      "outputs": []
    },
    {
      "cell_type": "code",
      "source": [
        "def streesigns_model(nbr_classes):\n",
        "\n",
        "    my_input = Input(shape=(60,60,3))\n",
        "\n",
        "    x = Conv2D(32, (3,3), activation='relu')(my_input)\n",
        "    x = MaxPool2D()(x)\n",
        "    x = BatchNormalization()(x)\n",
        "\n",
        "    x = Conv2D(64, (3,3), activation='relu')(x)\n",
        "    x = MaxPool2D()(x)\n",
        "    x = BatchNormalization()(x)\n",
        "\n",
        "    x = Conv2D(128, (3,3), activation='relu')(x)\n",
        "    x = MaxPool2D()(x)\n",
        "    x = BatchNormalization()(x)\n",
        "\n",
        "    # x = Flatten()(x)\n",
        "    x = GlobalAvgPool2D()(x)\n",
        "    x = Dense(128, activation='relu')(x)\n",
        "    x = Dense(nbr_classes, activation='softmax')(x)\n",
        "\n",
        "    return Model(inputs=my_input, outputs=x)\n"
      ],
      "metadata": {
        "execution": {
          "iopub.status.busy": "2021-12-17T17:01:36.697898Z",
          "iopub.execute_input": "2021-12-17T17:01:36.698234Z",
          "iopub.status.idle": "2021-12-17T17:01:36.706875Z",
          "shell.execute_reply.started": "2021-12-17T17:01:36.698199Z",
          "shell.execute_reply": "2021-12-17T17:01:36.705628Z"
        },
        "trusted": true,
        "id": "bjk-waPCWOwC"
      },
      "execution_count": null,
      "outputs": []
    },
    {
      "cell_type": "code",
      "source": [
        "model = streesigns_model(nbr_classes=nbr_classes)\n",
        "model.summary()"
      ],
      "metadata": {
        "execution": {
          "iopub.status.busy": "2021-12-17T17:04:54.081218Z",
          "iopub.execute_input": "2021-12-17T17:04:54.08178Z",
          "iopub.status.idle": "2021-12-17T17:04:56.703163Z",
          "shell.execute_reply.started": "2021-12-17T17:04:54.081742Z",
          "shell.execute_reply": "2021-12-17T17:04:56.702115Z"
        },
        "trusted": true,
        "id": "Ged_f3hxWOwC"
      },
      "execution_count": null,
      "outputs": []
    },
    {
      "cell_type": "code",
      "source": [
        "# Make Models directory\n",
        "if os.path.isdir('./Models'):\n",
        "    os.makedirs('./Models')"
      ],
      "metadata": {
        "execution": {
          "iopub.status.busy": "2021-12-17T17:11:51.628451Z",
          "iopub.execute_input": "2021-12-17T17:11:51.628958Z",
          "iopub.status.idle": "2021-12-17T17:11:51.634738Z",
          "shell.execute_reply.started": "2021-12-17T17:11:51.628922Z",
          "shell.execute_reply": "2021-12-17T17:11:51.633942Z"
        },
        "trusted": true,
        "id": "N3rFu3XnWOwC"
      },
      "execution_count": null,
      "outputs": []
    },
    {
      "cell_type": "code",
      "source": [
        "# Create Models directory\n",
        "if not os.path.isdir('./Models'):\n",
        "    os.makedirs('Models')"
      ],
      "metadata": {
        "execution": {
          "iopub.status.busy": "2021-12-17T17:17:30.622134Z",
          "iopub.execute_input": "2021-12-17T17:17:30.622697Z",
          "iopub.status.idle": "2021-12-17T17:17:30.627276Z",
          "shell.execute_reply.started": "2021-12-17T17:17:30.622657Z",
          "shell.execute_reply": "2021-12-17T17:17:30.626411Z"
        },
        "trusted": true,
        "id": "ESdi4rFLWOwC"
      },
      "execution_count": null,
      "outputs": []
    },
    {
      "cell_type": "code",
      "source": [
        "os.listdir('./')"
      ],
      "metadata": {
        "execution": {
          "iopub.status.busy": "2021-12-17T17:17:34.632029Z",
          "iopub.execute_input": "2021-12-17T17:17:34.632524Z",
          "iopub.status.idle": "2021-12-17T17:17:34.638546Z",
          "shell.execute_reply.started": "2021-12-17T17:17:34.63248Z",
          "shell.execute_reply": "2021-12-17T17:17:34.637725Z"
        },
        "trusted": true,
        "id": "iPrJJab8WOwD"
      },
      "execution_count": null,
      "outputs": []
    },
    {
      "cell_type": "code",
      "source": [
        "epochs = 15\n",
        "lr=0.0001\n",
        "\n",
        "path_to_save_model = './Models/'\n",
        "ckpt_saver = ModelCheckpoint(\n",
        "    path_to_save_model,\n",
        "    monitor=\"val_accuracy\",\n",
        "    mode='max',\n",
        "    save_best_only=True,\n",
        "    save_freq='epoch',\n",
        "    verbose=1\n",
        ")\n",
        "\n",
        "early_stop = EarlyStopping(monitor=\"val_accuracy\", patience=10)\n",
        "\n",
        "model = streesigns_model(nbr_classes)\n",
        "\n",
        "optimizer = tf.keras.optimizers.Adam(learning_rate=lr, amsgrad=True)\n",
        "\n",
        "model.compile(optimizer=optimizer, loss='categorical_crossentropy', metrics=['accuracy'])\n",
        "\n",
        "# Since we have trained model and saved it to avoid retraining I am making the switch called TRAIN\n",
        "# If you wanna train make it True\n",
        "\n",
        "TRAIN = False\n",
        "if TRAIN:\n",
        "    model.fit(train_generator,\n",
        "              epochs=epochs,\n",
        "              batch_size=batch_size,\n",
        "              validation_data=val_generator,\n",
        "              callbacks=[ckpt_saver, early_stop]\n",
        "              )\n"
      ],
      "metadata": {
        "execution": {
          "iopub.status.busy": "2021-12-17T17:19:50.263778Z",
          "iopub.execute_input": "2021-12-17T17:19:50.264064Z",
          "iopub.status.idle": "2021-12-17T17:39:39.266785Z",
          "shell.execute_reply.started": "2021-12-17T17:19:50.264031Z",
          "shell.execute_reply": "2021-12-17T17:39:39.266048Z"
        },
        "trusted": true,
        "id": "lsTlsc2oWOwD"
      },
      "execution_count": null,
      "outputs": []
    },
    {
      "cell_type": "code",
      "source": [
        "history = model.history.history\n",
        "\n",
        "# Plotting\n",
        "plt.figure(figsize=(20,15))\n",
        "plt.plot(history['loss'], label='Train Loss')\n",
        "plt.plot(history['accuracy'], label='Train Accuracy')\n",
        "plt.plot(history['val_loss'], label='Validation Loss')\n",
        "plt.plot(history['val_accuracy'], label='Validation Accuracy')\n",
        "plt.legend()"
      ],
      "metadata": {
        "execution": {
          "iopub.status.busy": "2021-12-17T17:44:00.128546Z",
          "iopub.execute_input": "2021-12-17T17:44:00.128802Z",
          "iopub.status.idle": "2021-12-17T17:44:00.45652Z",
          "shell.execute_reply.started": "2021-12-17T17:44:00.128773Z",
          "shell.execute_reply": "2021-12-17T17:44:00.455785Z"
        },
        "trusted": true,
        "id": "yrfnyo8VWOwD"
      },
      "execution_count": null,
      "outputs": []
    },
    {
      "cell_type": "markdown",
      "source": [
        "Looks like model might improve. Feel free to run it for more epochs or tweaking parameters :)"
      ],
      "metadata": {
        "id": "egvZ3BCKWOwD"
      }
    },
    {
      "cell_type": "markdown",
      "source": [
        "# Evaluate"
      ],
      "metadata": {
        "id": "Gnsu37dgWOwD"
      }
    },
    {
      "cell_type": "code",
      "source": [
        "# Just to get to the directory where model belongs\n",
        "os.chdir('/kaggle/working/')\n",
        "\n",
        "model = tf.keras.models.load_model('./Models')\n",
        "model.summary()\n",
        "\n",
        "print(\"Evaluating validation set:\")\n",
        "model.evaluate(val_generator)\n",
        "\n",
        "print(\"Evaluating test set : \")\n",
        "model.evaluate(test_generator)"
      ],
      "metadata": {
        "execution": {
          "iopub.status.busy": "2021-12-17T17:46:17.579262Z",
          "iopub.execute_input": "2021-12-17T17:46:17.579854Z",
          "iopub.status.idle": "2021-12-17T17:47:50.139051Z",
          "shell.execute_reply.started": "2021-12-17T17:46:17.579816Z",
          "shell.execute_reply": "2021-12-17T17:47:50.138182Z"
        },
        "trusted": true,
        "id": "H1Xys3UNWOwD"
      },
      "execution_count": null,
      "outputs": []
    },
    {
      "cell_type": "markdown",
      "source": [
        "So on validation set 95% accuracy and on test set 85% accuracy. Was expecting better. Happy tweaking parameters :)"
      ],
      "metadata": {
        "id": "diqY229nWOwD"
      }
    },
    {
      "cell_type": "markdown",
      "source": [
        "# Using model to predict the given image"
      ],
      "metadata": {
        "id": "vr22ntYrWOwD"
      }
    },
    {
      "cell_type": "code",
      "source": [
        "def predict_with_model(model, imgpath):\n",
        "\n",
        "    image = tf.io.read_file(imgpath)\n",
        "    image = tf.image.decode_png(image, channels=3)\n",
        "    image = tf.image.convert_image_dtype(image, dtype=tf.float32)\n",
        "    image = tf.image.resize(image, [60,60]) # (60,60,3)\n",
        "    image = tf.expand_dims(image, axis=0) # (1,60,60,3)\n",
        "\n",
        "    predictions = model.predict(image) # [0.005, 0.00003, 0.99, 0.00 ....]\n",
        "    predictions = np.argmax(predictions) # 2\n",
        "\n",
        "    return predictions\n"
      ],
      "metadata": {
        "execution": {
          "iopub.status.busy": "2021-12-17T18:16:17.166417Z",
          "iopub.execute_input": "2021-12-17T18:16:17.166679Z",
          "iopub.status.idle": "2021-12-17T18:16:17.172687Z",
          "shell.execute_reply.started": "2021-12-17T18:16:17.166648Z",
          "shell.execute_reply": "2021-12-17T18:16:17.172017Z"
        },
        "trusted": true,
        "id": "fk61mdnVWOwE"
      },
      "execution_count": null,
      "outputs": []
    },
    {
      "cell_type": "code",
      "source": [
        "# Prediction\n",
        "# Just to get to the directory where model belongs\n",
        "os.chdir('/kaggle/working/')\n",
        "\n",
        "model = tf.keras.models.load_model('./Models')\n",
        "\n",
        "for i in range(20):\n",
        "    label = np.random.randint(0,43)\n",
        "    img_path = os.path.join('../input/german-traffic-sign-recognition-benchmark/Test/',str(label)+'/')\n",
        "    image = np.random.choice(os.listdir(img_path))\n",
        "    img_path = os.path.join(img_path, image)\n",
        "    prediction = predict_with_model(model, img_path)\n",
        "\n",
        "    print(f\"Prediction = {prediction} and the label = {label}\")\n"
      ],
      "metadata": {
        "execution": {
          "iopub.status.busy": "2021-12-17T18:17:12.66291Z",
          "iopub.execute_input": "2021-12-17T18:17:12.663187Z",
          "iopub.status.idle": "2021-12-17T18:17:14.129176Z",
          "shell.execute_reply.started": "2021-12-17T18:17:12.663155Z",
          "shell.execute_reply": "2021-12-17T18:17:14.128409Z"
        },
        "trusted": true,
        "id": "k08Cf9sdWOwE"
      },
      "execution_count": null,
      "outputs": []
    },
    {
      "cell_type": "code",
      "source": [],
      "metadata": {
        "id": "013yTS7tWOwE"
      },
      "execution_count": null,
      "outputs": []
    }
  ]
}